{
  "nbformat": 4,
  "nbformat_minor": 0,
  "metadata": {
    "colab": {
      "provenance": [],
      "authorship_tag": "ABX9TyM7Z+6gxQHlNSi+n7+dM760",
      "include_colab_link": true
    },
    "kernelspec": {
      "name": "python3",
      "display_name": "Python 3"
    },
    "language_info": {
      "name": "python"
    }
  },
  "cells": [
    {
      "cell_type": "markdown",
      "metadata": {
        "id": "view-in-github",
        "colab_type": "text"
      },
      "source": [
        "<a href=\"https://colab.research.google.com/github/Pooja-dotc/PAYMENT_RECEIPT_CBTC/blob/main/PAYMENT_RECEIPT_CBTC.ipynb\" target=\"_parent\"><img src=\"https://colab.research.google.com/assets/colab-badge.svg\" alt=\"Open In Colab\"/></a>"
      ]
    },
    {
      "cell_type": "code",
      "execution_count": 2,
      "metadata": {
        "colab": {
          "base_uri": "https://localhost:8080/"
        },
        "id": "f5E6ce8E-5ij",
        "outputId": "6be9b5b1-1191-47b6-d5db-1e07b28b7f3b"
      },
      "outputs": [
        {
          "output_type": "stream",
          "name": "stdout",
          "text": [
            "Collecting reportlab\n",
            "  Downloading reportlab-4.0.4-py3-none-any.whl (1.9 MB)\n",
            "\u001b[2K     \u001b[90m━━━━━━━━━━━━━━━━━━━━━━━━━━━━━━━━━━━━━━━━\u001b[0m \u001b[32m1.9/1.9 MB\u001b[0m \u001b[31m12.3 MB/s\u001b[0m eta \u001b[36m0:00:00\u001b[0m\n",
            "\u001b[?25hRequirement already satisfied: pillow>=9.0.0 in /usr/local/lib/python3.10/dist-packages (from reportlab) (9.4.0)\n",
            "Installing collected packages: reportlab\n",
            "Successfully installed reportlab-4.0.4\n"
          ]
        }
      ],
      "source": [
        "pip install reportlab\n"
      ]
    },
    {
      "cell_type": "code",
      "source": [
        "from reportlab.lib.pagesizes import letter\n",
        "from reportlab.lib import colors\n",
        "from reportlab.platypus import SimpleDocTemplate, Table, TableStyle\n",
        "\n",
        "def create_payment_receipt(customer_name, order_number, amount_paid):\n",
        "    # Create a PDF file to store the receipt\n",
        "    pdf_filename = f\"PaymentReceipt_{order_number}.pdf\"\n",
        "    pdf = SimpleDocTemplate(pdf_filename, pagesize=letter)\n",
        "\n",
        "    # Receipt content - a table with details\n",
        "    receipt_content = [\n",
        "        [\"Customer Name:\", customer_name],\n",
        "        [\"Order Number:\", order_number],\n",
        "        [\"Amount Paid:\", f\"${amount_paid:.2f}\"],\n",
        "        # Add more rows for additional information if needed\n",
        "    ]\n",
        "\n",
        "    # Create the table and set styles\n",
        "    table = Table(receipt_content, colWidths=150, rowHeights=30)\n",
        "    table.setStyle(TableStyle([\n",
        "        ('BACKGROUND', (0, 0), (-1, 0), colors.grey),  # Header background color\n",
        "        ('TEXTCOLOR', (0, 0), (-1, 0), colors.whitesmoke),  # Header text color\n",
        "        ('ALIGN', (0, 0), (-1, -1), 'CENTER'),  # Center alignment for all cells\n",
        "        ('FONTNAME', (0, 0), (-1, 0), 'Helvetica-Bold'),  # Bold font for the header\n",
        "        ('BOTTOMPADDING', (0, 0), (-1, 0), 12),  # Add padding to the header\n",
        "        ('BACKGROUND', (0, 1), (-1, -1), colors.beige),  # Data background color\n",
        "        ('GRID', (0, 0), (-1, -1), 1, colors.black),  # Grid lines\n",
        "    ]))\n",
        "\n",
        "    # Build the PDF document\n",
        "    pdf.build([table])\n",
        "\n",
        "    print(f\"Payment receipt created and saved as '{pdf_filename}'.\")\n"
      ],
      "metadata": {
        "id": "SIhxJNha_AkU"
      },
      "execution_count": 3,
      "outputs": []
    },
    {
      "cell_type": "code",
      "source": [
        "if __name__ == \"__main__\":\n",
        "    # Example usage:\n",
        "    customer_name = \"pooja parmar\"\n",
        "    order_number = \"ORD12345\"\n",
        "    amount_paid = 120.50\n",
        "\n",
        "    create_payment_receipt(customer_name, order_number, amount_paid)"
      ],
      "metadata": {
        "colab": {
          "base_uri": "https://localhost:8080/"
        },
        "id": "11SE62-v8HLi",
        "outputId": "e01bf0d7-71d9-43c2-9df5-baf0a1c2526d"
      },
      "execution_count": 4,
      "outputs": [
        {
          "output_type": "stream",
          "name": "stdout",
          "text": [
            "Payment receipt created and saved as 'PaymentReceipt_ORD12345.pdf'.\n"
          ]
        }
      ]
    }
  ]
}